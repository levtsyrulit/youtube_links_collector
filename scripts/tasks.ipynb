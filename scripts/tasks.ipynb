{
 "cells": [
  {
   "cell_type": "code",
   "execution_count": 1,
   "metadata": {},
   "outputs": [
    {
     "data": {
      "text/plain": [
       "True"
      ]
     },
     "execution_count": 1,
     "metadata": {},
     "output_type": "execute_result"
    }
   ],
   "source": [
    "import pandas as pd\n",
    "import psycopg2\n",
    "import dotenv\n",
    "import os\n",
    "\n",
    "dotenv.load_dotenv()"
   ]
  },
  {
   "cell_type": "code",
   "execution_count": 2,
   "metadata": {},
   "outputs": [
    {
     "name": "stdout",
     "output_type": "stream",
     "text": [
      "26\n"
     ]
    }
   ],
   "source": [
    "with open('uuids.txt', 'r') as file:\n",
    "    ids = file.readlines()\n",
    "\n",
    "ids = [id.strip() for id in ids]\n",
    "df = pd.DataFrame(ids, columns=['id'])\n",
    "df = df[1:]\n",
    "\n",
    "print(len(df))"
   ]
  },
  {
   "cell_type": "code",
   "execution_count": 3,
   "metadata": {},
   "outputs": [
    {
     "name": "stderr",
     "output_type": "stream",
     "text": [
      "/var/folders/kq/j4r9p0tj7mdc5bqcm9c9qpq00000gn/T/ipykernel_99139/2270306324.py:2: UserWarning: pandas only supports SQLAlchemy connectable (engine/connection) or database string URI or sqlite3 DBAPI2 connection. Other DBAPI2 objects are not tested. Please consider using SQLAlchemy.\n",
      "  existing_ids = pd.read_sql_query('SELECT id FROM cyber_tasks', con=conn)\n"
     ]
    },
    {
     "name": "stdout",
     "output_type": "stream",
     "text": [
      "26\n"
     ]
    }
   ],
   "source": [
    "conn = psycopg2.connect(host=\"ep-calm-star-76049617.us-west-2.retooldb.com\", port = 5432, dbname = \"retool\", user = \"retool\", password = os.environ['RETOOL_PASSWORD'])\n",
    "existing_ids = pd.read_sql_query('SELECT id FROM cyber_tasks', con=conn)\n",
    "df = df[~df['id'].isin(existing_ids['id'])]\n",
    "print(len(df))"
   ]
  },
  {
   "cell_type": "code",
   "execution_count": null,
   "metadata": {},
   "outputs": [],
   "source": [
    "is_review = input('Is this a review tasks? (y/n)')\n",
    "is_review = True if is_review == 'y' else False\n",
    "\n",
    "with conn.cursor() as cur:\n",
    "    for i, row in df.iterrows():\n",
    "        id = row['id']\n",
    "        cur.execute(f\"INSERT INTO cyber_tasks (id, is_review) VALUES ('{id}', {is_review})\")\n",
    "    conn.commit()"
   ]
  }
 ],
 "metadata": {
  "kernelspec": {
   "display_name": "Python 3",
   "language": "python",
   "name": "python3"
  },
  "language_info": {
   "codemirror_mode": {
    "name": "ipython",
    "version": 3
   },
   "file_extension": ".py",
   "mimetype": "text/x-python",
   "name": "python",
   "nbconvert_exporter": "python",
   "pygments_lexer": "ipython3",
   "version": "3.11.3"
  }
 },
 "nbformat": 4,
 "nbformat_minor": 2
}
