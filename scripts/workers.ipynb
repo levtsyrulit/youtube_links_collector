{
 "cells": [
  {
   "cell_type": "code",
   "execution_count": null,
   "metadata": {},
   "outputs": [],
   "source": [
    "import pandas as pd\n",
    "import psycopg2\n",
    "import dotenv\n",
    "import os\n",
    "\n",
    "dotenv.load_dotenv()"
   ]
  },
  {
   "cell_type": "code",
   "execution_count": null,
   "metadata": {},
   "outputs": [],
   "source": [
    "with open('other_ids.txt', 'r') as file:\n",
    "    ids = file.readlines()\n",
    "\n",
    "ids = [id.strip() for id in ids]\n",
    "df = pd.DataFrame(ids, columns=['id'])\n",
    "df = df[1:]\n",
    "\n",
    "print(len(df))"
   ]
  },
  {
   "cell_type": "code",
   "execution_count": null,
   "metadata": {},
   "outputs": [],
   "source": [
    "conn = psycopg2.connect(host=\"ep-calm-star-76049617.us-west-2.retooldb.com\", port = 5432, dbname = \"retool\", user = \"retool\", password = os.environ['RETOOL_PASSWORD'])\n",
    "existing_ids = pd.read_sql_query('SELECT truck_id as id FROM cyber_workers', con=conn)\n",
    "df = df[~df['id'].isin(existing_ids['id'])]\n",
    "print(len(df))"
   ]
  },
  {
   "cell_type": "code",
   "execution_count": null,
   "metadata": {},
   "outputs": [],
   "source": [
    "to_allocate = pd.read_csv('emails/molika.csv')\n",
    "allocated = pd.read_sql_query('SELECT email FROM cyber_workers', con=conn)\n",
    "\n",
    "print(len(to_allocate))\n",
    "to_allocate = to_allocate[~to_allocate['email'].isin(allocated['email'])]\n",
    "print(len(to_allocate))"
   ]
  },
  {
   "cell_type": "code",
   "execution_count": null,
   "metadata": {},
   "outputs": [],
   "source": [
    "node_id = int(input('Enter node id: '))\n",
    "\n",
    "with conn.cursor() as cur:\n",
    "    for i, row in to_allocate.iterrows():\n",
    "        email = row['email']\n",
    "        id = df.iloc[i]['id']\n",
    "        cur.execute(f\"INSERT INTO cyber_workers (email, truck_id, node_id) VALUES ('{email}', '{id}', {node_id})\")\n",
    "    conn.commit()"
   ]
  }
 ],
 "metadata": {
  "kernelspec": {
   "display_name": "Python 3",
   "language": "python",
   "name": "python3"
  },
  "language_info": {
   "codemirror_mode": {
    "name": "ipython",
    "version": 3
   },
   "file_extension": ".py",
   "mimetype": "text/x-python",
   "name": "python",
   "nbconvert_exporter": "python",
   "pygments_lexer": "ipython3",
   "version": "3.11.3"
  }
 },
 "nbformat": 4,
 "nbformat_minor": 2
}
